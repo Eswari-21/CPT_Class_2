{
  "nbformat": 4,
  "nbformat_minor": 0,
  "metadata": {
    "colab": {
      "provenance": [],
      "authorship_tag": "ABX9TyMXMg3mPnQ3nE9pyXrEqcVh",
      "include_colab_link": true
    },
    "kernelspec": {
      "name": "python3",
      "display_name": "Python 3"
    },
    "language_info": {
      "name": "python"
    }
  },
  "cells": [
    {
      "cell_type": "markdown",
      "metadata": {
        "id": "view-in-github",
        "colab_type": "text"
      },
      "source": [
        "<a href=\"https://colab.research.google.com/github/Eswari-21/CPT_Class_2/blob/main/CPT_Class_2.ipynb\" target=\"_parent\"><img src=\"https://colab.research.google.com/assets/colab-badge.svg\" alt=\"Open In Colab\"/></a>"
      ]
    },
    {
      "cell_type": "markdown",
      "source": [
        "# Function\n",
        "### Argument pass with return\n",
        "### Argument pass without return value\n",
        "###  NO Argument pass with return value\n",
        "### NO argument pass with no return value\n"
      ],
      "metadata": {
        "id": "rus_vQ7XbtiK"
      }
    },
    {
      "cell_type": "code",
      "source": [
        "def hi(name):\n",
        "  return f\"Hello,{name}\"\n",
        "print(hi(\"Eshu Naidu\"))"
      ],
      "metadata": {
        "colab": {
          "base_uri": "https://localhost:8080/"
        },
        "id": "9gpRqd2kc7t5",
        "outputId": "931b60b6-271f-4353-fa48-1b7f117f733e"
      },
      "execution_count": null,
      "outputs": [
        {
          "output_type": "stream",
          "name": "stdout",
          "text": [
            "Hello,Eshu Naidu\n"
          ]
        }
      ]
    },
    {
      "cell_type": "code",
      "source": [
        "# function with default parameters\n",
        "def sample(x,y=1):\n",
        "  return x*y\n",
        "\n",
        "print(sample(5))\n",
        "print(sample(5,3))"
      ],
      "metadata": {
        "colab": {
          "base_uri": "https://localhost:8080/"
        },
        "id": "yGPKAlo3dFJh",
        "outputId": "91bab39a-ee70-4042-d2b7-92a06eeb96e2"
      },
      "execution_count": null,
      "outputs": [
        {
          "output_type": "stream",
          "name": "stdout",
          "text": [
            "5\n",
            "15\n"
          ]
        }
      ]
    },
    {
      "cell_type": "code",
      "source": [
        "# functions with keyword argument * to pass the n no of arguments\n",
        "def result(*args):\n",
        "  return sum(args)\n",
        "print(result(1,2,3))\n",
        "print(result(11,22,33,44))\n"
      ],
      "metadata": {
        "colab": {
          "base_uri": "https://localhost:8080/"
        },
        "id": "OZ4425TgekR6",
        "outputId": "76b879b6-96ee-4ea5-85de-b3a735c7dc66"
      },
      "execution_count": null,
      "outputs": [
        {
          "output_type": "stream",
          "name": "stdout",
          "text": [
            "6\n",
            "110\n"
          ]
        }
      ]
    },
    {
      "cell_type": "code",
      "source": [
        "# functions with keyword arguments **\n",
        "def info(**kwargs):    # k-key w-word args-argument\n",
        "  for key, value in kwargs.items():\n",
        "    print(f\"{key} : {value}\")\n",
        "info(name=\"Eshu\", age=20, city=\"Vijayawada\")\n"
      ],
      "metadata": {
        "colab": {
          "base_uri": "https://localhost:8080/"
        },
        "id": "f8eyipdMfySS",
        "outputId": "941cfeaa-97cc-4bb1-9dd8-f058b4acf51d"
      },
      "execution_count": null,
      "outputs": [
        {
          "output_type": "stream",
          "name": "stdout",
          "text": [
            "name : Eshu\n",
            "age : 20\n",
            "city : Vijayawada\n"
          ]
        }
      ]
    },
    {
      "cell_type": "markdown",
      "source": [
        "## lambda function"
      ],
      "metadata": {
        "id": "fZVbM4cwixly"
      }
    },
    {
      "cell_type": "code",
      "source": [
        "\n",
        "sq = lambda x: x*x\n",
        "print(sq(5))\n",
        "add = lambda x,y: x+y\n",
        "print(add(3,5))\n",
        "mul = lambda x,y,z: x*y*z\n",
        "print(mul(3,5,2))"
      ],
      "metadata": {
        "colab": {
          "base_uri": "https://localhost:8080/"
        },
        "id": "0imAX4CHhVxa",
        "outputId": "088f42bf-ae94-4640-eabc-e769476d2a8a"
      },
      "execution_count": null,
      "outputs": [
        {
          "output_type": "stream",
          "name": "stdout",
          "text": [
            "25\n",
            "8\n",
            "30\n"
          ]
        }
      ]
    },
    {
      "cell_type": "markdown",
      "source": [
        "#### write a program to retrurn n number of multiple values where passing a list of 1 to 5 elements return the min max and avg in a single funtion\n"
      ],
      "metadata": {
        "id": "f1bzbZB4i-UB"
      }
    },
    {
      "cell_type": "code",
      "source": [
        "def allnum(n):\n",
        "  return min(n), max(n), sum(n)/len(n)\n",
        "min_val, max_val, avg = allnum([1,2,3,4,5])\n",
        "print(f\"Min : {min_val}, Max : {max_val}, avg: {avg}\")"
      ],
      "metadata": {
        "colab": {
          "base_uri": "https://localhost:8080/"
        },
        "id": "kWjKS2iImU5C",
        "outputId": "82f640de-dee9-427e-c3ab-0c9d96c26369"
      },
      "execution_count": null,
      "outputs": [
        {
          "output_type": "stream",
          "name": "stdout",
          "text": [
            "Min : 1, Max : 5, avg: 3.0\n"
          ]
        }
      ]
    },
    {
      "cell_type": "markdown",
      "source": [
        "# Recursive Functions\n",
        "\n"
      ],
      "metadata": {
        "id": "ApcYOgWFm8PC"
      }
    },
    {
      "cell_type": "markdown",
      "source": [
        "#### Direct - fuction call itself directly eg:Factorial\n",
        "#### Indirect - two or more functions call each other, eg:we use greedy method\n",
        "#### Tail - ending, example:Factorial 5*4*3*2*1\n",
        "#### Head or NON Tail - starting\n",
        "#### Tree - root, left and right\n",
        "#### Linear - Calling itself only once\n",
        "#### Binary - Calling itself twice\n",
        "#### Multiple - one function invoke to other fuctions\n",
        "#### Nested - nest within the  multiple nested\n",
        "#### Mutual - one function to other function\n",
        "#### Divide and Conquer - break function into multiple and solve\n",
        "#### Absolute or Static - after return it calls multiple times same function"
      ],
      "metadata": {
        "id": "ySpStEDJvJwr"
      }
    },
    {
      "cell_type": "markdown",
      "source": [
        "## Direct recursive\n"
      ],
      "metadata": {
        "id": "7jJgwovCrInj"
      }
    },
    {
      "cell_type": "code",
      "source": [
        "# direct recursion fact\n",
        "\n",
        "def fact(n):\n",
        "  if n==0 or n==1:\n",
        "    return 1\n",
        "  return n* fact(n-1)\n",
        "print(fact(5))"
      ],
      "metadata": {
        "colab": {
          "base_uri": "https://localhost:8080/"
        },
        "id": "6LPjJPRJmivS",
        "outputId": "e6b8bd75-4307-448e-eec8-6883a429a9da"
      },
      "execution_count": null,
      "outputs": [
        {
          "output_type": "stream",
          "name": "stdout",
          "text": [
            "120\n"
          ]
        }
      ]
    },
    {
      "cell_type": "markdown",
      "source": [
        "## Indirect Recursive\n"
      ],
      "metadata": {
        "id": "InK_uNpZrMPz"
      }
    },
    {
      "cell_type": "code",
      "source": [
        "def even(n):\n",
        "  if n==0:\n",
        "    return True\n",
        "  return odd(n-1)\n",
        "def odd(n):\n",
        "  if n==0:\n",
        "    return False\n",
        "  return even(n-1)\n",
        "print(even(4))\n",
        "print(odd(3))"
      ],
      "metadata": {
        "colab": {
          "base_uri": "https://localhost:8080/"
        },
        "id": "1YATHSLTrVpD",
        "outputId": "23ded931-69c1-4a7c-f35f-f2afcbc2a416"
      },
      "execution_count": null,
      "outputs": [
        {
          "output_type": "stream",
          "name": "stdout",
          "text": [
            "True\n",
            "True\n"
          ]
        }
      ]
    },
    {
      "cell_type": "markdown",
      "source": [
        "## Tail Recursive\n",
        "\n"
      ],
      "metadata": {
        "id": "dTb6_iNgtKGK"
      }
    },
    {
      "cell_type": "code",
      "source": [
        "def fact(n, t=1):\n",
        "  if n==0 or n==1:\n",
        "    return t\n",
        "  return fact(n-1, n*t)\n",
        "print(fact(5))"
      ],
      "metadata": {
        "colab": {
          "base_uri": "https://localhost:8080/"
        },
        "id": "9SYRWkzmtFAc",
        "outputId": "f41740a1-e048-4998-8a7e-d32b3a954805"
      },
      "execution_count": null,
      "outputs": [
        {
          "output_type": "stream",
          "name": "stdout",
          "text": [
            "120\n"
          ]
        }
      ]
    },
    {
      "cell_type": "markdown",
      "source": [
        "## Linear Recursive\n",
        "\n"
      ],
      "metadata": {
        "id": "RID10k-GvzC0"
      }
    },
    {
      "cell_type": "code",
      "source": [
        "def total(n):\n",
        "  if n<=0:\n",
        "    return 0\n",
        "  return n+total(n-1)\n",
        "print(total(10))"
      ],
      "metadata": {
        "colab": {
          "base_uri": "https://localhost:8080/"
        },
        "id": "RAIGHuBPvPjb",
        "outputId": "415eb6be-1815-47c2-a90f-aa2fa5dac067"
      },
      "execution_count": null,
      "outputs": [
        {
          "output_type": "stream",
          "name": "stdout",
          "text": [
            "55\n"
          ]
        }
      ]
    },
    {
      "cell_type": "markdown",
      "source": [
        "## Nested Recursive\n"
      ],
      "metadata": {
        "id": "IvcLqTu35gPM"
      }
    },
    {
      "cell_type": "markdown",
      "source": [
        "## nested recursion for super factorial\n",
        "###### EXAMPLE : factor (3!) -> (3 * 2 * 1)! = 6 , Super factor 3! * 2! * 1! = 6 * 4 * 1 = 12"
      ],
      "metadata": {
        "id": "ThoLwDdz8HOE"
      }
    },
    {
      "cell_type": "code",
      "source": [
        "\n",
        "def sfact(n):\n",
        "  if n<=0:\n",
        "    return 1\n",
        "  return fact(n) *sfact(n-1)\n",
        "def fact(n):\n",
        "  if n<=1:\n",
        "    return 1\n",
        "  return n * fact(n-1)\n",
        "print(sfact(3))\n",
        "print(fact(3))"
      ],
      "metadata": {
        "id": "huxmQISywDCE",
        "colab": {
          "base_uri": "https://localhost:8080/"
        },
        "outputId": "f243b898-2318-4f28-8c1c-0a203362df13"
      },
      "execution_count": null,
      "outputs": [
        {
          "output_type": "stream",
          "name": "stdout",
          "text": [
            "12\n",
            "6\n"
          ]
        }
      ]
    },
    {
      "cell_type": "markdown",
      "source": [
        "## Power Tower\n",
        "##### (2,3) 2 means base value 3 means exponential\n",
        "#####  (2,3) -> (2 ^ (2 ^ 2)) = 2 ^ (4) = 16\n"
      ],
      "metadata": {
        "id": "bypSZRKK9AyU"
      }
    },
    {
      "cell_type": "code",
      "source": [
        "def pt(a,n):\n",
        "  if n==1:\n",
        "    return a\n",
        "  return a**pt(a, n-1)\n",
        "print(pt(2,3))\n",
        "print(pt(2,4))"
      ],
      "metadata": {
        "id": "vThEJuyt8vG8",
        "colab": {
          "base_uri": "https://localhost:8080/"
        },
        "outputId": "54b2effd-18c2-4ea3-9f54-a6ecc9431c55"
      },
      "execution_count": null,
      "outputs": [
        {
          "output_type": "stream",
          "name": "stdout",
          "text": [
            "16\n",
            "65536\n"
          ]
        }
      ]
    }
  ]
}